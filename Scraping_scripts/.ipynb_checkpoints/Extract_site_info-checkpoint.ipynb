{
 "cells": [
  {
   "cell_type": "code",
   "execution_count": 7,
   "metadata": {},
   "outputs": [],
   "source": [
    "import urllib.request\n",
    "import re"
   ]
  },
  {
   "cell_type": "code",
   "execution_count": 5,
   "metadata": {},
   "outputs": [],
   "source": [
    "url = \"https://www.copplestonechurch.org.uk/notice-sheets/\"\n",
    "\n",
    "response = urllib.request.urlopen(url)\n",
    "webContent = response.read()"
   ]
  },
  {
   "cell_type": "code",
   "execution_count": 17,
   "metadata": {
    "scrolled": true
   },
   "outputs": [
    {
     "name": "stdout",
     "output_type": "stream",
     "text": [
      "<p>Click a date below to download the notice sheet for that week</p>\n",
      "<p><a href=\"https://www.copplestonechurch.org.uk/wp-content/uploads/2019/11/Notices-3November-1.pdf\">3rd November 2019</a></p>\n",
      "<p><a href=\"https://www.copplestonechurch.org.uk/wp-content/uploads/2019/10/Notices-27October-1.pdf\">27th October 2019</a></p>\n",
      "<p><a href=\"https://www.copplestonechurch.org.uk/wp-content/uploads/2019/10/Notices-20October.pdf\">20th October 2019</a></p>\n",
      "<p><a href=\"https://www.copplestonechurch.org.uk/wp-content/uploads/2019/10/Notices-13October-2.pdf\">13th October 2019</a></p>\n",
      "<p><a href=\"https://www.copplestonechurch.org.uk/wp-content/uploads/2019/10/Notices-6October.pdf\">6th October 2019</a></p>\n",
      "<p><a href=\"https://www.copplestonechurch.org.uk/wp-content/uploads/2019/09/Notices-29September.pdf\">29th September 2019</a></p>\n",
      "<p><a href=\"https://www.copplestonechurch.org.uk/wp-content/uploads/2019/09/Notices-22September-1.pdf\">22nd September 2019</a></p>\n",
      "<p><a href=\"https://www.copplestonechurch.org.uk/wp-content/uploads/2019/09/Notices-15September-1.pdf\">15th September 2019</a></p>\n",
      "<p><a href=\"https://www.copplestonechurch.org.uk/wp-content/uploads/2019/09/Notices-8September.pdf\">8th September 2019</a></p>\n",
      "<p><a href=\"https://www.copplestonechurch.org.uk/wp-content/uploads/2019/09/Notices-1September-1.pdf\">1st September 2019</a></p>\n",
      "<p><a href=\"https://www.copplestonechurch.org.uk/wp-content/uploads/2019/08/Notices-25August.pdf\">25th August 2019</a></p>\n",
      "<p><a href=\"https://www.copplestonechurch.org.uk/wp-content/uploads/2019/08/Notices-18August.pdf\">18th August 2019</a></p>\n",
      "<p><a href=\"https://www.copplestonechurch.org.uk/wp-content/uploads/2019/08/Notices-11August.pdf\">11th August 2019</a></p>\n",
      "<p><a href=\"https://www.copplestonechurch.org.uk/wp-content/uploads/2019/08/Notices-4August.pdf\">4th August 2019</a></p>\n",
      "<p><a href=\"https://www.copplestonechurch.org.uk/wp-content/uploads/2019/07/Notices-28July.pdf\">28th July 2019</a></p>\n",
      "<p><a href=\"https://www.copplestonechurch.org.uk/wp-content/uploads/2019/07/Notices-21July-1.pdf\">21st July 2019</a></p>\n",
      "<p><a href=\"https://www.copplestonechurch.org.uk/wp-content/uploads/2019/07/Notices-14July-1.pdf\">14th July 2019</a></p>\n",
      "<p><a href=\"https://www.copplestonechurch.org.uk/wp-content/uploads/2019/07/Notices-7July.pdf\">7th July 2019</a></p>\n",
      "<p><a href=\"https://www.copplestonechurch.org.uk/wp-content/uploads/2019/06/Notices-30June.pdf\">30th June 2019</a></p>\n",
      "<p><a href=\"https://www.copplestonechurch.org.uk/wp-content/uploads/2019/06/Notices-23June-1.pdf\">23rd June 2019</a></p>\n",
      "<p><a href=\"https://www.copplestonechurch.org.uk/wp-content/uploads/2019/06/Notices-16June-2.pdf\">16th June 2019</a></p>\n",
      "<p><a href=\"https://www.copplestonechurch.org.uk/wp-content/uploads/2019/06/Notices-9June.pdf\">9th June 2019</a></p>\n",
      "<p><a href=\"https://www.copplestonechurch.org.uk/wp-content/uploads/2019/06/Notices-2June.pdf\">2nd June 2019</a></p>\n",
      "<p>&nbsp;</p>\n",
      "<p>&nbsp;</p>\n",
      "<p>&nbsp;</p>\n",
      "<p>Minister &#8211; Revd John Wiltshire: 01363 877281 / johnwiltshireringsash@gmail.com</p>\n",
      "<p>Booking of church premises &#8211; Maureen Burlton: 01363 881154</p>\n",
      "<p>Enlightener Village Magazine &#8211; Suzanne Lunn: 01363 84018 / lunn.family4@gmail.com</p>\n",
      "<p>Copplestone Church Safeguarding Officer &#8211; Hannah Petherick: 07866 521945\\xc2\\xa0/ hjpetherick@hotmail.co.uk</p>\n",
      "<p>Church Notice Sheet &#8211; Nicola Schofield: 01363 84927 / seannicschofield@yahoo.co.uk</p>\n",
      "<p>Children&#8217;s and Families Worker &#8211; Sherrin Neenan &#8211; 01363 85451 / 07711 123542 / sherrin.copplestonecfw@gmail.com</p>\n"
     ]
    }
   ],
   "source": [
    "pattern = re.compile(\"<p>.*?<\\/p>\")\n",
    "content = pattern.findall(str(webContent))\n",
    "for line in content:\n",
    "    print(line)"
   ]
  },
  {
   "cell_type": "code",
   "execution_count": 29,
   "metadata": {
    "scrolled": false
   },
   "outputs": [
    {
     "name": "stdout",
     "output_type": "stream",
     "text": [
      "https://www.copplestonechurch.org.uk/wp-content/uploads/2019/11/Notices-3November-1.pdf\n",
      "https://www.copplestonechurch.org.uk/wp-content/uploads/2019/10/Notices-27October-1.pdf\n",
      "https://www.copplestonechurch.org.uk/wp-content/uploads/2019/10/Notices-20October.pdf\n",
      "https://www.copplestonechurch.org.uk/wp-content/uploads/2019/10/Notices-13October-2.pdf\n",
      "https://www.copplestonechurch.org.uk/wp-content/uploads/2019/10/Notices-6October.pdf\n",
      "https://www.copplestonechurch.org.uk/wp-content/uploads/2019/09/Notices-29September.pdf\n",
      "https://www.copplestonechurch.org.uk/wp-content/uploads/2019/09/Notices-22September-1.pdf\n",
      "https://www.copplestonechurch.org.uk/wp-content/uploads/2019/09/Notices-15September-1.pdf\n",
      "https://www.copplestonechurch.org.uk/wp-content/uploads/2019/09/Notices-8September.pdf\n",
      "https://www.copplestonechurch.org.uk/wp-content/uploads/2019/09/Notices-1September-1.pdf\n",
      "https://www.copplestonechurch.org.uk/wp-content/uploads/2019/08/Notices-25August.pdf\n",
      "https://www.copplestonechurch.org.uk/wp-content/uploads/2019/08/Notices-18August.pdf\n",
      "https://www.copplestonechurch.org.uk/wp-content/uploads/2019/08/Notices-11August.pdf\n",
      "https://www.copplestonechurch.org.uk/wp-content/uploads/2019/08/Notices-4August.pdf\n",
      "https://www.copplestonechurch.org.uk/wp-content/uploads/2019/07/Notices-28July.pdf\n",
      "https://www.copplestonechurch.org.uk/wp-content/uploads/2019/07/Notices-21July-1.pdf\n",
      "https://www.copplestonechurch.org.uk/wp-content/uploads/2019/07/Notices-14July-1.pdf\n",
      "https://www.copplestonechurch.org.uk/wp-content/uploads/2019/07/Notices-7July.pdf\n",
      "https://www.copplestonechurch.org.uk/wp-content/uploads/2019/06/Notices-30June.pdf\n",
      "https://www.copplestonechurch.org.uk/wp-content/uploads/2019/06/Notices-23June-1.pdf\n",
      "https://www.copplestonechurch.org.uk/wp-content/uploads/2019/06/Notices-16June-2.pdf\n",
      "https://www.copplestonechurch.org.uk/wp-content/uploads/2019/06/Notices-9June.pdf\n",
      "https://www.copplestonechurch.org.uk/wp-content/uploads/2019/06/Notices-2June.pdf\n"
     ]
    }
   ],
   "source": [
    "pattern = re.compile(\"<a.*?>\")\n",
    "links = [line.split('\"')[1] for line in pattern.findall(str(webContent)) if \".pdf\" in line]\n",
    "for line in links:\n",
    "    print(line)"
   ]
  },
  {
   "cell_type": "code",
   "execution_count": 30,
   "metadata": {},
   "outputs": [
    {
     "data": {
      "text/plain": [
       "('test.pdf', <http.client.HTTPMessage at 0x232d0d2f288>)"
      ]
     },
     "execution_count": 30,
     "metadata": {},
     "output_type": "execute_result"
    }
   ],
   "source": [
    "urllib.request.urlretrieve('https://www.copplestonechurch.org.uk/wp-content/uploads/2019/11/Notices-3November-1.pdf', 'test.pdf')"
   ]
  },
  {
   "cell_type": "code",
   "execution_count": null,
   "metadata": {},
   "outputs": [],
   "source": []
  }
 ],
 "metadata": {
  "kernelspec": {
   "display_name": "Python 3",
   "language": "python",
   "name": "python3"
  },
  "language_info": {
   "codemirror_mode": {
    "name": "ipython",
    "version": 3
   },
   "file_extension": ".py",
   "mimetype": "text/x-python",
   "name": "python",
   "nbconvert_exporter": "python",
   "pygments_lexer": "ipython3",
   "version": "3.7.4"
  }
 },
 "nbformat": 4,
 "nbformat_minor": 2
}
