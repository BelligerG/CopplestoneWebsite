{
 "cells": [
  {
   "cell_type": "code",
   "execution_count": 2,
   "metadata": {},
   "outputs": [],
   "source": [
    "import urllib.request\n",
    "import re"
   ]
  },
  {
   "cell_type": "code",
   "execution_count": 12,
   "metadata": {},
   "outputs": [],
   "source": [
    "url = \"https://www.copplestonechurch.org.uk/downloads/\"\n",
    "\n",
    "response = urllib.request.urlopen(url)\n",
    "webContent = response.read()"
   ]
  },
  {
   "cell_type": "code",
   "execution_count": 15,
   "metadata": {
    "scrolled": false
   },
   "outputs": [
    {
     "name": "stdout",
     "output_type": "stream",
     "text": [
      "<p>Please <a href=\"files/Notices-3November-1.pdf\">click here</a> for this week&#8217;s notice sheet</p>\n",
      "<p><a href=\"files/CF-Update-Summer-2019-web.pdf\">CYFP Update &#8211;\\xc2\\xa0Summer 2019</a></p>\n",
      "<p><a href=\"files/sept-19.oxps\">Enlightener &#8211; September 2019</a></p>\n",
      "<p><a href=\"files/Pulse-Consent-Form.pdf\">Pulse Consent Form</a></p>\n",
      "<p><a href=\"files/Energize-Consent-Form.pdf\">Energize Consent Form</a></p>\n",
      "<p><a href=\"files/Risk_assessments_youth-pulse-and-grid.pdf\">Risk assessments Grid &amp; Pulse</a></p>\n",
      "<p><a href=\"files/Risk_assessments_youth.pdf\">Risk_assessments_youth</a></p>\n",
      "<p><a href=\"files/Risk-assessments-children.pdf\">Risk assessments children</a></p>\n",
      "<p><a href=\"files/Risk-Assessment-Sept17-for-energize.pdf\">Risk assessment &#8211; Energize</a></p>\n",
      "<p><a href=\"files/Copplestone-MC-Health-and-SAfety-policy-march-2016.pdf\">Copplestone Methodist Church Health and Safety Policy 2016</a></p>\n",
      "<p><a href=\"files/Incident-and-Accident-Form-Copplestone-Methodist-Church-Mar-16.pdf\">Copplestone Methodist Church Incident and Reporting Form</a></p>\n",
      "<p><a href=\"files/Ringash-Safeguarding-Policy.pdf\">Ringash Safeguarding Policy</a></p>\n",
      "<p><a href=\"files/Copplestone-Church-Safeguarding-Policy-November-15.pdf\">Copplestone Church Safeguarding Policy November 15</a></p>\n",
      "<p><a href=\"files/Privacy-Notice.pdf\">Privacy Policy</a></p>\n",
      "<p><a href=\"files/Internet_use_policy.pdf\">Internet_use_policy</a></p>\n",
      "<p><a href=\"files/Plan-Grid-Sept-Oct-Nov-2018-7-1.pdf\">Ringsash Circuit Plan</a></p>\n"
     ]
    }
   ],
   "source": [
    "pattern = re.compile(\"<p>.*?<\\/p>\")\n",
    "content = pattern.findall(str(webContent))\n",
    "for line in content:\n",
    "    #print(line+\"\\n\")\n",
    "    line = line.split('\"')\n",
    "    if len(line)==3:\n",
    "        line = '{}\"files/{}\"{}'.format(line[0], line[1].split('/')[-1], line[2])\n",
    "        print(line)"
   ]
  },
  {
   "cell_type": "code",
   "execution_count": 16,
   "metadata": {
    "scrolled": false
   },
   "outputs": [
    {
     "name": "stdout",
     "output_type": "stream",
     "text": [
      "Notices-3November-1.pdf\n",
      "CF-Update-Summer-2019-web.pdf\n",
      "Pulse-Consent-Form.pdf\n",
      "Energize-Consent-Form.pdf\n",
      "Risk_assessments_youth-pulse-and-grid.pdf\n",
      "Risk_assessments_youth.pdf\n",
      "Risk-assessments-children.pdf\n",
      "Risk-Assessment-Sept17-for-energize.pdf\n",
      "Copplestone-MC-Health-and-SAfety-policy-march-2016.pdf\n",
      "Incident-and-Accident-Form-Copplestone-Methodist-Church-Mar-16.pdf\n",
      "Ringash-Safeguarding-Policy.pdf\n",
      "Copplestone-Church-Safeguarding-Policy-November-15.pdf\n",
      "Privacy-Notice.pdf\n",
      "Internet_use_policy.pdf\n",
      "Plan-Grid-Sept-Oct-Nov-2018-7-1.pdf\n"
     ]
    }
   ],
   "source": [
    "pattern = re.compile(\"<a.*?>\")\n",
    "links = [line.split('\"')[1] for line in pattern.findall(str(webContent)) if \".pdf\" in line]\n",
    "for line in links:\n",
    "    print(line.split('/')[-1])\n",
    "    urllib.request.urlretrieve(line, line.split('/')[-1])"
   ]
  },
  {
   "cell_type": "code",
   "execution_count": 30,
   "metadata": {},
   "outputs": [
    {
     "data": {
      "text/plain": [
       "('test.pdf', <http.client.HTTPMessage at 0x232d0d2f288>)"
      ]
     },
     "execution_count": 30,
     "metadata": {},
     "output_type": "execute_result"
    }
   ],
   "source": [
    "urllib.request.urlretrieve('https://www.copplestonechurch.org.uk/wp-content/uploads/2019/11/Notices-3November-1.pdf', 'test.pdf')"
   ]
  },
  {
   "cell_type": "code",
   "execution_count": null,
   "metadata": {},
   "outputs": [],
   "source": []
  }
 ],
 "metadata": {
  "kernelspec": {
   "display_name": "Python 3",
   "language": "python",
   "name": "python3"
  },
  "language_info": {
   "codemirror_mode": {
    "name": "ipython",
    "version": 3
   },
   "file_extension": ".py",
   "mimetype": "text/x-python",
   "name": "python",
   "nbconvert_exporter": "python",
   "pygments_lexer": "ipython3",
   "version": "3.7.4"
  }
 },
 "nbformat": 4,
 "nbformat_minor": 2
}
